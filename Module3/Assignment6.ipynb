{
 "cells": [
  {
   "cell_type": "code",
   "execution_count": 21,
   "metadata": {
    "collapsed": true
   },
   "outputs": [],
   "source": [
    "import pandas as pd\n",
    "import matplotlib.pyplot as plt"
   ]
  },
  {
   "cell_type": "code",
   "execution_count": 22,
   "metadata": {
    "collapsed": true
   },
   "outputs": [],
   "source": [
    "#\n",
    "# TODO: Load up the Seeds Dataset into a Dataframe\n",
    "# It's located at 'Datasets/wheat.data'\n",
    "# \n",
    "# .. your code here ..\n",
    "df = pd.read_csv('Datasets/wheat.data')"
   ]
  },
  {
   "cell_type": "code",
   "execution_count": 23,
   "metadata": {
    "collapsed": false
   },
   "outputs": [],
   "source": [
    "#\n",
    "# TODO: Drop the 'id' feature\n",
    "# \n",
    "# .. your code here ..\n",
    "del df['id']\n",
    "del df['wheat_type']"
   ]
  },
  {
   "cell_type": "code",
   "execution_count": 24,
   "metadata": {
    "collapsed": true
   },
   "outputs": [],
   "source": [
    "#\n",
    "# TODO: Compute the correlation matrix of your dataframe\n",
    "# \n",
    "# .. your code here ..\n",
    "corr = df.corr()"
   ]
  },
  {
   "cell_type": "code",
   "execution_count": 25,
   "metadata": {
    "collapsed": false
   },
   "outputs": [
    {
     "data": {
      "text/plain": [
       "([<matplotlib.axis.YTick at 0x16547f387f0>,\n",
       "  <matplotlib.axis.YTick at 0x16547e504e0>,\n",
       "  <matplotlib.axis.YTick at 0x16547fca8d0>,\n",
       "  <matplotlib.axis.YTick at 0x16547fcf860>,\n",
       "  <matplotlib.axis.YTick at 0x16547fc4eb8>,\n",
       "  <matplotlib.axis.YTick at 0x16547fd1320>,\n",
       "  <matplotlib.axis.YTick at 0x16547fd1f28>],\n",
       " <a list of 7 Text yticklabel objects>)"
      ]
     },
     "execution_count": 25,
     "metadata": {},
     "output_type": "execute_result"
    }
   ],
   "source": [
    "#\n",
    "# TODO: Graph the correlation matrix using imshow or matshow\n",
    "# \n",
    "# .. your code here ..\n",
    "plt.imshow(corr, cmap=plt.cm.Blues, interpolation='nearest')\n",
    "plt.colorbar()\n",
    "tick_marks = [i for i in range(len(df.columns))]\n",
    "plt.xticks(tick_marks, df.columns, rotation='vertical')\n",
    "plt.yticks(tick_marks, df.columns)"
   ]
  },
  {
   "cell_type": "code",
   "execution_count": 26,
   "metadata": {
    "collapsed": true
   },
   "outputs": [],
   "source": [
    "plt.show()"
   ]
  },
  {
   "cell_type": "code",
   "execution_count": 27,
   "metadata": {
    "collapsed": false
   },
   "outputs": [],
   "source": [
    "# Which pair of features have the highest / greatest level of correlation?\n",
    "## Ans: Area X Perimeter\n",
    "# Which feature seems to be the least correlated with the remaining features?\n",
    "## Ans: Asymmetry\n",
    "# Which pair of features have the smallest / least level of correlation? Be sure to check carefully! You might need to print out the correlation matrix if it's hard to see. Also, pay attention to the colorbar that shows *units* and their corresponding colors:\n",
    "## Ans: Asymmetry X Groove"
   ]
  },
  {
   "cell_type": "code",
   "execution_count": null,
   "metadata": {
    "collapsed": true
   },
   "outputs": [],
   "source": []
  }
 ],
 "metadata": {
  "anaconda-cloud": {},
  "kernelspec": {
   "display_name": "Python [Root]",
   "language": "python",
   "name": "Python [Root]"
  },
  "language_info": {
   "codemirror_mode": {
    "name": "ipython",
    "version": 3
   },
   "file_extension": ".py",
   "mimetype": "text/x-python",
   "name": "python",
   "nbconvert_exporter": "python",
   "pygments_lexer": "ipython3",
   "version": "3.5.2"
  }
 },
 "nbformat": 4,
 "nbformat_minor": 0
}
