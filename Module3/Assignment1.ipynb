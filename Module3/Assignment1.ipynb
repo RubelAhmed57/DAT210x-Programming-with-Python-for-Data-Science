{
 "cells": [
  {
   "cell_type": "code",
   "execution_count": 1,
   "metadata": {
    "collapsed": true
   },
   "outputs": [],
   "source": [
    "import pandas as pd\n",
    "import matplotlib.pyplot as plt\n",
    "import matplotlib\n",
    "\n",
    "# Look pretty...\n",
    "matplotlib.style.use('ggplot')"
   ]
  },
  {
   "cell_type": "code",
   "execution_count": 9,
   "metadata": {
    "collapsed": false
   },
   "outputs": [
    {
     "name": "stdout",
     "output_type": "stream",
     "text": [
      "   id   area  perimeter  compactness  length  width  asymmetry  groove  \\\n",
      "0   0  15.26      14.84       0.8710   5.763  3.312      2.221   5.220   \n",
      "1   1  14.88      14.57       0.8811   5.554  3.333      1.018   4.956   \n",
      "2   2  14.29      14.09       0.9050   5.291  3.337      2.699   4.825   \n",
      "3   3  13.84      13.94       0.8955   5.324  3.379      2.259   4.805   \n",
      "4   4  16.14      14.99       0.9034   5.658  3.562      1.355   5.175   \n",
      "\n",
      "  wheat_type  \n",
      "0       kama  \n",
      "1       kama  \n",
      "2       kama  \n",
      "3       kama  \n",
      "4       kama  \n"
     ]
    }
   ],
   "source": [
    "#\n",
    "# TODO: Load up the Seeds Dataset into a Dataframe\n",
    "# It's located at 'Datasets/wheat.data'\n",
    "# \n",
    "# .. your code here ..\n",
    "data_path = r'Datasets/wheat.data'\n",
    "df = pd.read_csv(data_path)\n",
    "\n",
    "print(df.head())"
   ]
  },
  {
   "cell_type": "code",
   "execution_count": 15,
   "metadata": {
    "collapsed": false
   },
   "outputs": [],
   "source": [
    "#\n",
    "# TODO: Create a slice of your dataframe (call it s1)\n",
    "# that only includes the 'area' and 'perimeter' features\n",
    "# \n",
    "# .. your code here ..\n",
    "s1 = df[['area', 'perimeter']]"
   ]
  },
  {
   "cell_type": "code",
   "execution_count": 16,
   "metadata": {
    "collapsed": true
   },
   "outputs": [],
   "source": [
    "#\n",
    "# TODO: Create another slice of your dataframe (call it s2)\n",
    "# that only includes the 'groove' and 'asymmetry' features\n",
    "# \n",
    "# .. your code here ..\n",
    "s2 = df[['groove', 'asymmetry']]"
   ]
  },
  {
   "cell_type": "code",
   "execution_count": 17,
   "metadata": {
    "collapsed": false
   },
   "outputs": [
    {
     "data": {
      "text/plain": [
       "<matplotlib.axes._subplots.AxesSubplot at 0x1d28daa05f8>"
      ]
     },
     "execution_count": 17,
     "metadata": {},
     "output_type": "execute_result"
    }
   ],
   "source": [
    "#\n",
    "# TODO: Create a histogram plot using the first slice,\n",
    "# and another histogram plot using the second slice.\n",
    "# Be sure to set alpha=0.75\n",
    "# \n",
    "# .. your code here ..\n",
    "s1.plot.hist(alpha=0.75)\n",
    "s2.plot.hist(alpha=0.75)"
   ]
  },
  {
   "cell_type": "code",
   "execution_count": 18,
   "metadata": {
    "collapsed": true
   },
   "outputs": [],
   "source": [
    "plt.show()"
   ]
  },
  {
   "cell_type": "code",
   "execution_count": 19,
   "metadata": {
    "collapsed": true
   },
   "outputs": [],
   "source": [
    "# Looking at your first plot, the histograms of area and perimeter, which feature do you believe more closely resembles a Gaussian / normal distribution?\n",
    "## Ans: Perimeter\n",
    "# In your second plot, does the groove or asymmetry feature have more variance?\n",
    "## Ans: Asymmetry"
   ]
  },
  {
   "cell_type": "code",
   "execution_count": null,
   "metadata": {
    "collapsed": true
   },
   "outputs": [],
   "source": []
  }
 ],
 "metadata": {
  "kernelspec": {
   "display_name": "Python [Root]",
   "language": "python",
   "name": "Python [Root]"
  },
  "language_info": {
   "codemirror_mode": {
    "name": "ipython",
    "version": 3
   },
   "file_extension": ".py",
   "mimetype": "text/x-python",
   "name": "python",
   "nbconvert_exporter": "python",
   "pygments_lexer": "ipython3",
   "version": "3.5.2"
  }
 },
 "nbformat": 4,
 "nbformat_minor": 0
}
