{
 "cells": [
  {
   "cell_type": "code",
   "execution_count": 20,
   "metadata": {
    "collapsed": true
   },
   "outputs": [],
   "source": [
    "import pandas as pd\n",
    "import matplotlib.pyplot as plt\n",
    "import matplotlib\n",
    "\n",
    "# Look pretty...\n",
    "matplotlib.style.use('ggplot')"
   ]
  },
  {
   "cell_type": "code",
   "execution_count": 29,
   "metadata": {
    "collapsed": true
   },
   "outputs": [],
   "source": [
    "#\n",
    "# TODO: Load up the Seeds Dataset into a Dataframe\n",
    "# It's located at 'Datasets/wheat.data'\n",
    "# \n",
    "# .. your code here ..\n",
    "df = pd.read_csv(r'Datasets/wheat.data')"
   ]
  },
  {
   "cell_type": "code",
   "execution_count": 30,
   "metadata": {
    "collapsed": false
   },
   "outputs": [
    {
     "data": {
      "text/plain": [
       "<matplotlib.axes._subplots.AxesSubplot at 0x1df2d212048>"
      ]
     },
     "execution_count": 30,
     "metadata": {},
     "output_type": "execute_result"
    }
   ],
   "source": [
    "\n",
    "#\n",
    "# TODO: Create a 2d scatter plot that graphs the\n",
    "# area and perimeter features\n",
    "# \n",
    "# .. your code here ..\n",
    "s1 = df[['area', 'perimeter']]\n",
    "s1.plot.scatter(x='area', y='perimeter', marker='^')"
   ]
  },
  {
   "cell_type": "code",
   "execution_count": 31,
   "metadata": {
    "collapsed": false
   },
   "outputs": [
    {
     "data": {
      "text/plain": [
       "<matplotlib.axes._subplots.AxesSubplot at 0x1df2d2735f8>"
      ]
     },
     "execution_count": 31,
     "metadata": {},
     "output_type": "execute_result"
    }
   ],
   "source": [
    "#\n",
    "# TODO: Create a 2d scatter plot that graphs the\n",
    "# groove and asymmetry features\n",
    "# \n",
    "# .. your code here ..\n",
    "s2 = df[['groove', 'asymmetry']]\n",
    "s2.plot.scatter(x='groove', y='asymmetry', marker='^')"
   ]
  },
  {
   "cell_type": "code",
   "execution_count": 32,
   "metadata": {
    "collapsed": false
   },
   "outputs": [
    {
     "data": {
      "text/plain": [
       "<matplotlib.axes._subplots.AxesSubplot at 0x1df2ef664a8>"
      ]
     },
     "execution_count": 32,
     "metadata": {},
     "output_type": "execute_result"
    }
   ],
   "source": [
    "#\n",
    "# TODO: Create a 2d scatter plot that graphs the\n",
    "# compactness and width features\n",
    "# \n",
    "# .. your code here ..\n",
    "s3 = df[['compactness', 'width']]\n",
    "s3.plot.scatter(x='compactness', y='width', marker='*')"
   ]
  },
  {
   "cell_type": "code",
   "execution_count": 33,
   "metadata": {
    "collapsed": true
   },
   "outputs": [],
   "source": [
    "# BONUS TODO:\n",
    "# After completing the above, go ahead and run your program\n",
    "# Check out the results, and see what happens when you add\n",
    "# in the optional display parameter marker with values of\n",
    "# either '^', '.', or 'o'."
   ]
  },
  {
   "cell_type": "code",
   "execution_count": 34,
   "metadata": {
    "collapsed": true
   },
   "outputs": [],
   "source": [
    "plt.show()"
   ]
  },
  {
   "cell_type": "code",
   "execution_count": 35,
   "metadata": {
    "collapsed": true
   },
   "outputs": [],
   "source": [
    "# Which of the three plots seems to totally be lacking any correlation?\n",
    "## Ans: Groove vs Asymmetry\n",
    "# Which of the three plots has the most correlation?\n",
    "## Ans: Area vs Perimeter"
   ]
  },
  {
   "cell_type": "code",
   "execution_count": null,
   "metadata": {
    "collapsed": true
   },
   "outputs": [],
   "source": []
  }
 ],
 "metadata": {
  "kernelspec": {
   "display_name": "Python [Root]",
   "language": "python",
   "name": "Python [Root]"
  },
  "language_info": {
   "codemirror_mode": {
    "name": "ipython",
    "version": 3
   },
   "file_extension": ".py",
   "mimetype": "text/x-python",
   "name": "python",
   "nbconvert_exporter": "python",
   "pygments_lexer": "ipython3",
   "version": "3.5.2"
  }
 },
 "nbformat": 4,
 "nbformat_minor": 0
}
