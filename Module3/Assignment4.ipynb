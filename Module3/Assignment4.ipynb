{
 "cells": [
  {
   "cell_type": "code",
   "execution_count": 17,
   "metadata": {
    "collapsed": true
   },
   "outputs": [],
   "source": [
    "import pandas as pd\n",
    "import matplotlib.pyplot as plt\n",
    "import matplotlib\n",
    "\n",
    "from pandas.tools.plotting import parallel_coordinates\n",
    "\n",
    "# Look pretty...\n",
    "matplotlib.style.use('ggplot')"
   ]
  },
  {
   "cell_type": "code",
   "execution_count": 18,
   "metadata": {
    "collapsed": true
   },
   "outputs": [],
   "source": [
    "#\n",
    "# TODO: Load up the Seeds Dataset into a Dataframe\n",
    "# It's located at 'Datasets/wheat.data'\n",
    "# \n",
    "# .. your code here ..\n",
    "df = pd.read_csv(r'Datasets/wheat.data')\n"
   ]
  },
  {
   "cell_type": "code",
   "execution_count": 19,
   "metadata": {
    "collapsed": false
   },
   "outputs": [],
   "source": [
    "\n",
    "\n",
    "#\n",
    "# TODO: Drop the 'id', 'area', and 'perimeter' feature\n",
    "# \n",
    "# .. your code here ..\n",
    "del df['id']\n",
    "del df['perimeter']\n",
    "del df['area']"
   ]
  },
  {
   "cell_type": "code",
   "execution_count": 20,
   "metadata": {
    "collapsed": false
   },
   "outputs": [
    {
     "data": {
      "text/plain": [
       "<matplotlib.axes._subplots.AxesSubplot at 0x1f1fdd07668>"
      ]
     },
     "execution_count": 20,
     "metadata": {},
     "output_type": "execute_result"
    }
   ],
   "source": [
    "#\n",
    "# TODO: Plot a parallel coordinates chart grouped by\n",
    "# the 'wheat_type' feature. Be sure to set the optional\n",
    "# display parameter alpha to 0.4\n",
    "# \n",
    "# .. your code here ..\n",
    "# Parallel Coordinates Start Here:\n",
    "plt.figure()\n",
    "parallel_coordinates(df, 'wheat_type', alpha=0.4)"
   ]
  },
  {
   "cell_type": "code",
   "execution_count": 21,
   "metadata": {
    "collapsed": true
   },
   "outputs": [],
   "source": [
    "plt.show()"
   ]
  },
  {
   "cell_type": "code",
   "execution_count": 22,
   "metadata": {
    "collapsed": true
   },
   "outputs": [],
   "source": [
    "# Which class of wheat do the two outliers you found previously belong to?\n",
    "## Canadian\n",
    "# Which feature has the largest spread of values across all three types of wheat?\n",
    "## Asymmetry"
   ]
  },
  {
   "cell_type": "code",
   "execution_count": null,
   "metadata": {
    "collapsed": true
   },
   "outputs": [],
   "source": []
  }
 ],
 "metadata": {
  "kernelspec": {
   "display_name": "Python [Root]",
   "language": "python",
   "name": "Python [Root]"
  },
  "language_info": {
   "codemirror_mode": {
    "name": "ipython",
    "version": 3
   },
   "file_extension": ".py",
   "mimetype": "text/x-python",
   "name": "python",
   "nbconvert_exporter": "python",
   "pygments_lexer": "ipython3",
   "version": "3.5.2"
  }
 },
 "nbformat": 4,
 "nbformat_minor": 0
}
