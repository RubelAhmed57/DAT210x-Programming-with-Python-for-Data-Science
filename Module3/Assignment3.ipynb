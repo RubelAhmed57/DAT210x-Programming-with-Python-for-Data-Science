{
 "cells": [
  {
   "cell_type": "code",
   "execution_count": 14,
   "metadata": {
    "collapsed": true
   },
   "outputs": [],
   "source": [
    "import pandas as pd\n",
    "import matplotlib.pyplot as plt\n",
    "import matplotlib\n",
    "from mpl_toolkits.mplot3d import Axes3D\n",
    "\n",
    "# Look pretty...\n",
    "matplotlib.style.use('ggplot')"
   ]
  },
  {
   "cell_type": "code",
   "execution_count": 15,
   "metadata": {
    "collapsed": true
   },
   "outputs": [],
   "source": [
    "#\n",
    "# TODO: Load up the Seeds Dataset into a Dataframe\n",
    "# It's located at 'Datasets/wheat.data'\n",
    "# \n",
    "# .. your code here ..\n",
    "df = pd.read_csv(r'Datasets/wheat.data')"
   ]
  },
  {
   "cell_type": "code",
   "execution_count": 16,
   "metadata": {
    "collapsed": false
   },
   "outputs": [
    {
     "data": {
      "text/plain": [
       "<mpl_toolkits.mplot3d.art3d.Path3DCollection at 0x24c42b04278>"
      ]
     },
     "execution_count": 16,
     "metadata": {},
     "output_type": "execute_result"
    }
   ],
   "source": [
    "# ax.scatter(student_dataset.G1, student_dataset.G3, student_dataset['Dalc'], c='r', marker='.')\n",
    "# plt.show()\n",
    "#\n",
    "# TODO: Create a new 3D subplot using fig. Then use the\n",
    "# subplot to graph a 3D scatter plot using the area,\n",
    "# perimeter and asymmetry features. Be sure to use the\n",
    "# optional display parameter c='red', and also label your\n",
    "# axes\n",
    "# \n",
    "# .. your code here ..\n",
    "s1 = df[['area', 'perimeter', 'asymmetry']]\n",
    "\n",
    "fig = plt.figure()\n",
    "ax = fig.add_subplot(111, projection='3d')\n",
    "ax.set_xlabel('Area')\n",
    "ax.set_ylabel('Perimeter')\n",
    "ax.set_zlabel('Asymmetry')\n",
    "ax.scatter(s1.area, s1.perimeter, s1.asymmetry, c='r', marker='.')"
   ]
  },
  {
   "cell_type": "code",
   "execution_count": 17,
   "metadata": {
    "collapsed": false
   },
   "outputs": [
    {
     "data": {
      "text/plain": [
       "<mpl_toolkits.mplot3d.art3d.Path3DCollection at 0x24c42b41c50>"
      ]
     },
     "execution_count": 17,
     "metadata": {},
     "output_type": "execute_result"
    }
   ],
   "source": [
    "#\n",
    "# TODO: Create a new 3D subplot using fig. Then use the\n",
    "# subplot to graph a 3D scatter plot using the width,\n",
    "# groove and length features. Be sure to use the\n",
    "# optional display parameter c='green', and also label your\n",
    "# axes\n",
    "# \n",
    "# .. your code here ..\n",
    "\n",
    "s2 = df[['groove', 'width', 'length']]\n",
    "fig = plt.figure()\n",
    "ax = fig.add_subplot(111, projection='3d')\n",
    "ax.set_xlabel('Groove')\n",
    "ax.set_ylabel('Width')\n",
    "ax.set_zlabel('Length')\n",
    "ax.scatter(s2.groove, s2.width, s2.length, c='green', marker='.')"
   ]
  },
  {
   "cell_type": "code",
   "execution_count": 18,
   "metadata": {
    "collapsed": true
   },
   "outputs": [],
   "source": [
    "plt.show()"
   ]
  },
  {
   "cell_type": "code",
   "execution_count": 19,
   "metadata": {
    "collapsed": true
   },
   "outputs": [],
   "source": [
    "# Which of the plots seems more compact / less spread out?\n",
    "# Which of the plots were you able to visibly identify two outliers within, that stuck out from the samples?\n",
    "## Ans: Groove X Length X Width"
   ]
  },
  {
   "cell_type": "code",
   "execution_count": null,
   "metadata": {
    "collapsed": true
   },
   "outputs": [],
   "source": []
  }
 ],
 "metadata": {
  "anaconda-cloud": {},
  "kernelspec": {
   "display_name": "Python [Root]",
   "language": "python",
   "name": "Python [Root]"
  },
  "language_info": {
   "codemirror_mode": {
    "name": "ipython",
    "version": 3
   },
   "file_extension": ".py",
   "mimetype": "text/x-python",
   "name": "python",
   "nbconvert_exporter": "python",
   "pygments_lexer": "ipython3",
   "version": "3.5.2"
  }
 },
 "nbformat": 4,
 "nbformat_minor": 0
}
